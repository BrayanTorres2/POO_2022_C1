{
  "nbformat": 4,
  "nbformat_minor": 0,
  "metadata": {
    "colab": {
      "name": "Quiz05b.ipynb",
      "provenance": [],
      "collapsed_sections": []
    },
    "kernelspec": {
      "name": "python3",
      "display_name": "Python 3"
    }
  },
  "cells": [
    {
      "cell_type": "markdown",
      "metadata": {
        "id": "Zxx5kMfM84R6"
      },
      "source": [
        "# Quiz 5 - Problemas de Geometría\n",
        "\n",
        "## Primer Ejercicio\n",
        "\n",
        "Vamos a comenzar por escribir una clase que represente un rectángulo. Los atributos serán la base y la altura del rectángulo y su único método sera el área del rectángulo.\n",
        "\n",
        "![Quiz501](https://i.ibb.co/MMkWD66/q06f04.png)"
      ]
    },
    {
      "cell_type": "code",
      "metadata": {
        "id": "gMMioPZR9nw8"
      },
      "source": [
        "from dataclasses import dataclass\n",
        "\n",
        "# Definición de la clase rectangulo\n",
        "@dataclass\n",
        "class Rectangulo:\n",
        "    pass"
      ],
      "execution_count": null,
      "outputs": []
    },
    {
      "cell_type": "markdown",
      "metadata": {
        "id": "_kvOUXlV9yr8"
      },
      "source": [
        "---\n",
        "\n",
        "## Segundo Ejercicio\n",
        "\n",
        "Ahora, desarrolle la clase trapecio. Los atributos de un trapecio serán la base mayor ($B$), la base menor ($b$) y la altura del trapecio ($h$). El diagrama de clase es el siguiente:\n",
        "\n",
        "![Quiz05Diagrama](https://i.ibb.co/V9ggnc2/q06f02.png)\n",
        "\n",
        "Como ven, el único método que tenemos es el área del trapecio. Para hallar el área, la formula está en la siguiente figura:\n",
        "\n",
        "![Trapecio](http://2.bp.blogspot.com/-nfFNlwEcpUU/VjzS4iSFebI/AAAAAAAAAaU/JIIFFJKVJxA/s1600/2.JPG)"
      ]
    },
    {
      "cell_type": "code",
      "metadata": {
        "id": "lMOWA00pC3wg"
      },
      "source": [
        "# Definiicón de la clase trapecio\n",
        "@dataclass\n",
        "class Trapecio:\n",
        "    pass"
      ],
      "execution_count": null,
      "outputs": []
    },
    {
      "cell_type": "markdown",
      "metadata": {
        "id": "9x3H3RdsC8ag"
      },
      "source": [
        "---\n",
        "\n",
        "## Tercer ejercicio\n",
        "\n",
        "Escriba una función en Python que halle el área de la siguiente figura a partir de los datos proporcionados en la imagen. **OBLIGATORIO EL USO DE OBJETOS DE LAS CLASES DESARROLLADAS ANTERIORMENTE** \n",
        "\n",
        "![Trapecio](https://i.ibb.co/kGFqP5D/EP01-P03-F02.png)\n",
        "\n",
        "Tenga en cuenta que la figura consta de un rectángulo, encima tiene un trapecio y encima otro rectángulo (cuadrado, con base y altura iguales a $u$)."
      ]
    },
    {
      "cell_type": "code",
      "metadata": {
        "id": "WaNXSgOrF8hz"
      },
      "source": [
        "# Definición de la función\n",
        "def quiz05(u: float, w: float, x: float, y: float, z: float) -> float:\n",
        "    pass"
      ],
      "execution_count": null,
      "outputs": []
    }
  ]
}