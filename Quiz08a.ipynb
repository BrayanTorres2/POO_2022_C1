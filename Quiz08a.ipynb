{
  "nbformat": 4,
  "nbformat_minor": 0,
  "metadata": {
    "colab": {
      "name": "Quiz08a.ipynb",
      "provenance": [],
      "collapsed_sections": [],
      "include_colab_link": true
    },
    "kernelspec": {
      "name": "python3",
      "display_name": "Python 3"
    }
  },
  "cells": [
    {
      "cell_type": "markdown",
      "metadata": {
        "id": "view-in-github",
        "colab_type": "text"
      },
      "source": [
        "<a href=\"https://colab.research.google.com/github/BrayanTorres2/Programacion-Orientada-Por-Objetos/blob/main/Quiz08a.ipynb\" target=\"_parent\"><img src=\"https://colab.research.google.com/assets/colab-badge.svg\" alt=\"Open In Colab\"/></a>"
      ]
    },
    {
      "cell_type": "markdown",
      "metadata": {
        "id": "FEl4PTK6N_x2"
      },
      "source": [
        "# Quiz 8 - Análisis de datos en Pandas\n",
        "\n",
        "Vamos a trabajar con un conjunto de datos que contiene registros del consumo mundial de alcohol en cada uno de los paises del globo. Este conjunto de datos consta de 5 columnas:\n",
        "\n",
        "* La primera columna contiene el año en que se hizo el registro del dato.\n",
        "* La segunda columna se refiere al lugar donde la bebida fue producida.\n",
        "* La tercera columna se refiere al lugar donde fue consumido la bebida alcohólica.\n",
        "* La cuarta columna se refiere al tipo de bebiba alcohólica cosumida\n",
        "* Y la quinta columa se refiere al promedio anual de consumo de esa bebida.\n"
      ]
    },
    {
      "cell_type": "code",
      "metadata": {
        "id": "_Zr2HeN2RaD2"
      },
      "source": [
        "# Importar Paquetes necesarios para trabajar\n",
        "import pandas as pd\n",
        "import math\n",
        "\n",
        "# Obtenemos los datos y los almacenamos en el dataframe wac\n",
        "wac = pd.read_excel(\"https://github.com/BrayanTorres2/Programacion-Orientada-Por-Objetos/blob/main/World_alcohol_consumption.xlsx?raw=true\")\n"
      ],
      "execution_count": null,
      "outputs": []
    },
    {
      "cell_type": "markdown",
      "metadata": {
        "id": "mS6rH9MTSCvf"
      },
      "source": [
        "### Ejercicio 01\n",
        "\n",
        "Muestre las información del dataframe `wac`"
      ]
    },
    {
      "cell_type": "code",
      "metadata": {
        "id": "WD0Ung-lS2Qs"
      },
      "source": [
        "# Respuesta al Ejercicio 01\n"
      ],
      "execution_count": null,
      "outputs": []
    },
    {
      "cell_type": "markdown",
      "metadata": {
        "id": "wC9x8nCCS-bw"
      },
      "source": [
        "### Ejercicio 02\n",
        "\n",
        "A partir de la respuesta anterior, responda las siguientes preguntas:\n",
        "\n",
        "* ¿Cuántas y cuáles columnas son numéricas en el dataframe?\n",
        "* ¿Cuántas filas tiene el dataframe?"
      ]
    },
    {
      "cell_type": "markdown",
      "metadata": {
        "id": "zYn37jUKTRdr"
      },
      "source": [
        "> Escriba aquí la respuesta a las preguntas anteriores:"
      ]
    },
    {
      "cell_type": "markdown",
      "metadata": {
        "id": "iYshf-QpTWIh"
      },
      "source": [
        "### Ejercicio 03\n",
        "\n",
        "Escriba un programa en python con Pandas que muestre las 10 primeras filas del dataframe"
      ]
    },
    {
      "cell_type": "code",
      "metadata": {
        "id": "xEKe2iIRTi_V"
      },
      "source": [
        "# Respuesta al ejercicio 03\n"
      ],
      "execution_count": null,
      "outputs": []
    },
    {
      "cell_type": "markdown",
      "metadata": {
        "id": "ibjvqvfdTkLS"
      },
      "source": [
        "### Ejercicio 04\n",
        "\n",
        "Escriba el programa en python con Pandas que muestre los registros del dataframe del año 1984 cuya región sea Africa o Americas."
      ]
    },
    {
      "cell_type": "code",
      "metadata": {
        "id": "hoK2WIK_UAfr"
      },
      "source": [
        "# Respuesta al ejercicio 04\n",
        "\n"
      ],
      "execution_count": null,
      "outputs": []
    },
    {
      "cell_type": "markdown",
      "metadata": {
        "id": "jiP4bv2uUYVY"
      },
      "source": [
        "### Ejercicio 05\n",
        "\n",
        "Escriba en python con Pandas un programa que encuentre y muestre cuantos países en Africa consumen cerveza (Type = Beer)."
      ]
    },
    {
      "cell_type": "code",
      "metadata": {
        "id": "iCNi_sxkU64N"
      },
      "source": [
        "# Respuestas al ejercicio 05\n",
        "\n"
      ],
      "execution_count": null,
      "outputs": []
    },
    {
      "cell_type": "markdown",
      "metadata": {
        "id": "NN-WfInOVHEb"
      },
      "source": [
        "### Ejercicio 06\n",
        "\n",
        "Escriba en Pandas la expresión para saber los tipos de bebida que se consumieron en Colombia entre los años 1984 a 1986."
      ]
    },
    {
      "cell_type": "code",
      "metadata": {
        "id": "PfaLmICNVjhb"
      },
      "source": [
        "# Respuesta al ejercicio 06\n",
        "\n"
      ],
      "execution_count": null,
      "outputs": []
    },
    {
      "cell_type": "markdown",
      "metadata": {
        "id": "5aq_jZU8V2QH"
      },
      "source": [
        "### Ejercicio 07\n",
        "\n",
        "Escriba en Pandas la expresión para conocer la suma del promedio anual de consumo (**Average**) de los países de Europa (**Region** == `'Europe'`) del año 1985"
      ]
    },
    {
      "cell_type": "code",
      "metadata": {
        "id": "fpL-WLx7WZKG"
      },
      "source": [
        "# Respuesta al ejercicio 07\n",
        "\n"
      ],
      "execution_count": null,
      "outputs": []
    },
    {
      "cell_type": "markdown",
      "metadata": {
        "id": "Ijr_Qrt1WnS3"
      },
      "source": [
        "### Ejercicio 08\n",
        "\n",
        "Escriba en Pandas la expresión para conocer los nombres de los países de Europa donde el consumo promedio de cerveza es superior o igual a 4.0 (Tenga el cuenta el Type, la Region y el Average)"
      ]
    },
    {
      "cell_type": "code",
      "metadata": {
        "id": "edB9hyVOW_UH"
      },
      "source": [
        "# Respuesta al ejercicio 08\n",
        "\n"
      ],
      "execution_count": null,
      "outputs": []
    },
    {
      "cell_type": "markdown",
      "metadata": {
        "id": "7YtvxKYEXNzk"
      },
      "source": [
        "### Ejercicio 09\n",
        "\n",
        "Escriba en pandas la expresión para agrupar por región y dar la suma de los promedios de consumo"
      ]
    },
    {
      "cell_type": "code",
      "metadata": {
        "id": "F7ozmpqAXsZX"
      },
      "source": [
        "# Respuesta al ejercicio 09\n",
        "\n"
      ],
      "execution_count": null,
      "outputs": []
    },
    {
      "cell_type": "markdown",
      "metadata": {
        "id": "K6gG70g3XyUA"
      },
      "source": [
        "### Ejercicio 10\n",
        "\n",
        "Escriba en Pandas una expresión donde agrupemos por año y por tipo y que cuente el número de países en cada grupo"
      ]
    },
    {
      "cell_type": "code",
      "metadata": {
        "id": "Xh-k1sXCYKj6"
      },
      "source": [
        "# Respuesta al ejercicio 10\n",
        "\n"
      ],
      "execution_count": null,
      "outputs": []
    }
  ]
}